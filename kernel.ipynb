{
  "cells": [
    {
      "metadata": {
        "_uuid": "8f2839f25d086af736a60e9eeb907d3b93b6e0e5",
        "_cell_guid": "b1076dfc-b9ad-4769-8c92-a6c4dae69d19",
        "trusted": true
      },
      "cell_type": "code",
      "source": "# This Python 3 environment comes with many helpful analytics libraries installed\n# It is defined by the kaggle/python docker image: https://github.com/kaggle/docker-python\n# For example, here's several helpful packages to load in \n\nimport numpy as np # linear algebra\nimport pandas as pd # data processing, CSV file I/O (e.g. pd.read_csv)\n\n# Input data files are available in the \"../input/\" directory.\n# For example, running this (by clicking run or pressing Shift+Enter) will list the files in the input directory\n\nimport os\nprint(os.listdir(\"../input\"))\n\n# Any results you write to the current directory are saved as output.",
      "execution_count": null,
      "outputs": []
    },
    {
      "metadata": {
        "_cell_guid": "79c7e3d0-c299-4dcb-8224-4455121ee9b0",
        "_uuid": "d629ff2d2480ee46fbb7e2d37f6b5fab8052498a",
        "trusted": true
      },
      "cell_type": "code",
      "source": "import numpy as np\nimport pandas as pd\nfrom sklearn.cluster import KMeans\n",
      "execution_count": null,
      "outputs": []
    },
    {
      "metadata": {
        "trusted": true,
        "_uuid": "0b85843028decf3f0d3280dbddfafb00cbd86b3b"
      },
      "cell_type": "code",
      "source": "train = pd.read_csv(\"../input/train.csv\")\ntest = pd.read_csv(\"../input/test.csv\")\nsubmit = pd.read_csv(\"../input/sample_submission.csv\")",
      "execution_count": null,
      "outputs": []
    },
    {
      "metadata": {
        "trusted": true,
        "_uuid": "216fcf1c1b01db6cd2a5e696e8d97022b22af61f"
      },
      "cell_type": "code",
      "source": "train.info()",
      "execution_count": null,
      "outputs": []
    },
    {
      "metadata": {
        "trusted": true,
        "_uuid": "338bcfd9a740b7d31bcc711365ac4d88e7b08fdc"
      },
      "cell_type": "code",
      "source": "train.head()",
      "execution_count": null,
      "outputs": []
    },
    {
      "metadata": {
        "trusted": true,
        "_uuid": "32889bd71a15ec5bc762ec3645ae587f34df6743"
      },
      "cell_type": "code",
      "source": "#train.iloc[:,1:3073]=train.iloc[:,1:3073]/255",
      "execution_count": null,
      "outputs": []
    },
    {
      "metadata": {
        "trusted": true,
        "_uuid": "39920f0c899edcb86d3d5f9afaa3afe05aedc58e"
      },
      "cell_type": "code",
      "source": "#test.iloc[:,1:3073]=test.iloc[:,1:3073]/255\n",
      "execution_count": null,
      "outputs": []
    },
    {
      "metadata": {
        "trusted": true,
        "_uuid": "93be413e8da3a0ddeba7aa3a514acdc3b8c53226"
      },
      "cell_type": "code",
      "source": "",
      "execution_count": null,
      "outputs": []
    },
    {
      "metadata": {
        "trusted": true,
        "_uuid": "94600d5262d9dfa92a36a3ed980a518c2f560b74"
      },
      "cell_type": "code",
      "source": "X = train.iloc[:,1:3073]\nXt = test.iloc[:,1:3073]",
      "execution_count": null,
      "outputs": []
    },
    {
      "metadata": {
        "trusted": true,
        "_uuid": "59c22c6b105552dad2ccfae93391a31fa8d94885"
      },
      "cell_type": "code",
      "source": "",
      "execution_count": null,
      "outputs": []
    },
    {
      "metadata": {
        "trusted": true,
        "_uuid": "7cdfcb6426b1f2f665c226930aa113c59b77d6b5"
      },
      "cell_type": "code",
      "source": "from tqdm import tqdm\nidx = []\nfor i in range(test.shape[0]):\n    llist = []\n    for j in range(train.shape[0]):\n        t = np.abs(np.linalg.norm(Xt.loc[i] - X.loc[j]))\n        llist.append(t)\n        print(t)\n    idx.append(llist.index((min(llist))))",
      "execution_count": null,
      "outputs": []
    },
    {
      "metadata": {
        "trusted": true,
        "_uuid": "927969d523e12597c325323b7b18457062f2cec0"
      },
      "cell_type": "code",
      "source": "for i in range(test.shape[0]):\n    ll=[]\n    for j in range(train.shape[0]):        \n        ll.append(np.abs(np.linalg.norm((X.loc[i] - Xt.loc[j]))))",
      "execution_count": null,
      "outputs": []
    },
    {
      "metadata": {
        "trusted": true,
        "_uuid": "d813c0d4534c550326fbd7a2d31952f72839393e"
      },
      "cell_type": "code",
      "source": "test.shape",
      "execution_count": null,
      "outputs": []
    },
    {
      "metadata": {
        "trusted": true,
        "_uuid": "ec4c6d0e8a5576c8d1e8c8f2d0c740a606fafd4d"
      },
      "cell_type": "code",
      "source": "'''#from sklearn.datasets import load_iris\nfrom sklearn.cluster import KMeans\nimport matplotlib.pyplot as plt\n\n#iris = load_iris()\n#X = pd.DataFrame(iris.data, columns=iris['feature_names'])\n#print(X)\n#data = X[['sepal length (cm)', 'sepal width (cm)', 'petal length (cm)']]\n\nsse = {}\nfor k in range(1, 10):\n    kmeans = KMeans(n_clusters=k, max_iter=1000).fit(train)\n    #data[\"clusters\"] = kmeans.labels_\n    #print(data[\"clusters\"])\n    sse[k] = kmeans.inertia_ # Inertia: Sum of distances of samples to their closest cluster center\nplt.figure()\nplt.plot(list(sse.keys()), list(sse.values()))\nplt.xlabel(\"Number of cluster\")\nplt.ylabel(\"SSE\")\nplt.show()'''",
      "execution_count": null,
      "outputs": []
    },
    {
      "metadata": {
        "trusted": true,
        "_uuid": "c6a5aba2926a4ebf5d07de08675d8346716589a9"
      },
      "cell_type": "code",
      "source": "#from sklearn.neighbors import NearestNeighbors as nn\n#kmeans =KMeans(n_clusters=1000, random_state=0).fit(X)\n#kmeans.cluster_centers_\n#c=kmeans.predict(Xt)",
      "execution_count": null,
      "outputs": []
    },
    {
      "metadata": {
        "trusted": true,
        "_uuid": "18e9cf52bba2c031339c86a68431664ac04a23e0"
      },
      "cell_type": "code",
      "source": "\nfrom sklearn.neighbors import NearestNeighbors\nnb = NearestNeighbors(n_neighbors=1, algorithm='ball_tree').fit(X)\ndis, ind = nb.kneighbors(Xt)",
      "execution_count": null,
      "outputs": []
    },
    {
      "metadata": {
        "trusted": true,
        "_uuid": "3547ee04b2827df590b039126c719ac70106d982"
      },
      "cell_type": "code",
      "source": "'''from sklearn.neighbors import NearestNeighbors as nn\nknn = nn(n_neighbors=1, algorithm='ball_tree').fit(X)\ndis,ind = knn.kneighbors(X)\n\nknn = nn(n_neighbors=1, algorithm='ball_tree').fit(Xt)\ndis,ind= knn.kneighbors(Xt)\nprint(len(ind))'''",
      "execution_count": null,
      "outputs": []
    },
    {
      "metadata": {
        "trusted": true,
        "_uuid": "61c6a60cdebbcc93e848aab90b576840ded982b3"
      },
      "cell_type": "code",
      "source": "#dis,ind = knn.kneighbors(X)\nprint(ind)",
      "execution_count": null,
      "outputs": []
    },
    {
      "metadata": {
        "trusted": true,
        "_uuid": "88bba790497004fc537fea9c3c5a01535d72e6c9"
      },
      "cell_type": "code",
      "source": "ind=ind+1\nfor i in submit.index:\n    submit[\"train_image_id\"][i] = ind[i][0]",
      "execution_count": null,
      "outputs": []
    },
    {
      "metadata": {
        "trusted": true,
        "_uuid": "932ca2fc5df5a66eff493fb2c601fba0ff271423"
      },
      "cell_type": "code",
      "source": "submit.head(100)",
      "execution_count": null,
      "outputs": []
    },
    {
      "metadata": {
        "trusted": true,
        "_uuid": "712bd834c304751a80ba2a28e56e1e23f3e9d878"
      },
      "cell_type": "code",
      "source": "'''from sklearn.cluster import MeanShift\nimport numpy as np\nclustering = MeanShift(bandwidth=0.2).fit(X)\nclustering.labels_\nc=clustering.predict(Xt)\nprint (len(c))'''\n",
      "execution_count": null,
      "outputs": []
    },
    {
      "metadata": {
        "trusted": true,
        "_uuid": "9d10b1534f1207021d03c2af7eeeaa6de5a41e66"
      },
      "cell_type": "code",
      "source": "#for i in submit.index:\n #   submit[\"train_image_id\"][i] = c[i]",
      "execution_count": null,
      "outputs": []
    },
    {
      "metadata": {
        "trusted": true,
        "_uuid": "54e8bd4a54f3ca68bf2a1ffa226726d32efae403"
      },
      "cell_type": "code",
      "source": "submit.to_csv(\"submit.csv\",index=False)",
      "execution_count": null,
      "outputs": []
    },
    {
      "metadata": {
        "trusted": true,
        "_uuid": "1d368ebab457db3ed6ea710fbc4f07b16cf7d112"
      },
      "cell_type": "code",
      "source": "",
      "execution_count": null,
      "outputs": []
    },
    {
      "metadata": {
        "trusted": true,
        "_uuid": "268270422aabf8b8dda63a29a3ed966053782a39"
      },
      "cell_type": "code",
      "source": "",
      "execution_count": null,
      "outputs": []
    },
    {
      "metadata": {
        "trusted": true,
        "_uuid": "e23dfae78a5ef15881d9c3fce80779a6934d4c7e"
      },
      "cell_type": "code",
      "source": "",
      "execution_count": null,
      "outputs": []
    },
    {
      "metadata": {
        "trusted": true,
        "_uuid": "43b9827de366f06ed01ee03ef85b3454f968c0e4"
      },
      "cell_type": "code",
      "source": "",
      "execution_count": null,
      "outputs": []
    },
    {
      "metadata": {
        "trusted": true,
        "scrolled": false,
        "_uuid": "05a779b31548e08e9c6d73e4ddfbe7a03d2ef97d"
      },
      "cell_type": "code",
      "source": "",
      "execution_count": null,
      "outputs": []
    },
    {
      "metadata": {
        "trusted": true,
        "_uuid": "0918f7d76846e58b7e72f6f716517bd724c90028"
      },
      "cell_type": "code",
      "source": "",
      "execution_count": null,
      "outputs": []
    },
    {
      "metadata": {
        "trusted": true,
        "_uuid": "d36dcd039cf681ba136d7245796ad8e8920bfb26"
      },
      "cell_type": "code",
      "source": "",
      "execution_count": null,
      "outputs": []
    },
    {
      "metadata": {
        "trusted": true,
        "_uuid": "aaff48dafd7bdc7f08620c63cd2bd8b8ddd0dc58"
      },
      "cell_type": "code",
      "source": "",
      "execution_count": null,
      "outputs": []
    },
    {
      "metadata": {
        "trusted": true,
        "_uuid": "6a5701ff20438d7632b5cd91f224c2c6d756db92"
      },
      "cell_type": "code",
      "source": "",
      "execution_count": null,
      "outputs": []
    }
  ],
  "metadata": {
    "kernelspec": {
      "display_name": "Python 3",
      "language": "python",
      "name": "python3"
    },
    "language_info": {
      "name": "python",
      "version": "3.6.6",
      "mimetype": "text/x-python",
      "codemirror_mode": {
        "name": "ipython",
        "version": 3
      },
      "pygments_lexer": "ipython3",
      "nbconvert_exporter": "python",
      "file_extension": ".py"
    }
  },
  "nbformat": 4,
  "nbformat_minor": 1
}